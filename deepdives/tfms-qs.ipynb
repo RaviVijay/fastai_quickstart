{
 "cells": [
  {
   "cell_type": "markdown",
   "metadata": {},
   "source": [
    "## Trials to understand what various transforms do in Fastai"
   ]
  },
  {
   "cell_type": "markdown",
   "metadata": {},
   "source": [
    "### Vision"
   ]
  },
  {
   "cell_type": "markdown",
   "metadata": {},
   "source": [
    "Different types of transforms:\n",
    "\n",
    "- do_flip: bool = True,\n",
    "- flip_vert: bool = False,\n",
    "- max_rotate: float = 10.0,\n",
    "- max_zoom: float = 1.1,\n",
    "- max_lighting: float = 0.2,\n",
    "- max_warp: float = 0.2,\n",
    "- p_affine: float = 0.75,\n",
    "- p_lighting: float = 0.75,\n",
    "- xtra_tfms: Union[Collection[fastai.vision.image.Transform], NoneType] = None,"
   ]
  },
  {
   "cell_type": "markdown",
   "metadata": {},
   "source": [
    "What are the default set of transfoms ? "
   ]
  },
  {
   "cell_type": "code",
   "execution_count": null,
   "metadata": {},
   "outputs": [],
   "source": []
  }
 ],
 "metadata": {
  "kernelspec": {
   "display_name": "Python 3",
   "language": "python",
   "name": "python3"
  },
  "language_info": {
   "codemirror_mode": {
    "name": "ipython",
    "version": 3
   },
   "file_extension": ".py",
   "mimetype": "text/x-python",
   "name": "python",
   "nbconvert_exporter": "python",
   "pygments_lexer": "ipython3",
   "version": "3.7.4"
  }
 },
 "nbformat": 4,
 "nbformat_minor": 2
}
